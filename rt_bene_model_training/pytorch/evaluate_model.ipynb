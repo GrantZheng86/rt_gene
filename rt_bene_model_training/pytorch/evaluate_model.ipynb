{
 "metadata": {
  "language_info": {
   "codemirror_mode": {
    "name": "ipython",
    "version": 3
   },
   "file_extension": ".py",
   "mimetype": "text/x-python",
   "name": "python",
   "nbconvert_exporter": "python",
   "pygments_lexer": "ipython3",
   "version": "3.8.6-final"
  },
  "orig_nbformat": 2,
  "kernelspec": {
   "name": "python3",
   "language": "python",
   "display_name": "Python 3"
  }
 },
 "nbformat": 4,
 "nbformat_minor": 2,
 "cells": [
  {
   "cell_type": "code",
   "execution_count": 8,
   "metadata": {},
   "outputs": [],
   "source": [
    "import os\n",
    "import glob\n",
    "import h5py\n",
    "import matplotlib.pyplot as plt\n",
    "import numpy as np\n",
    "import torch\n",
    "from sklearn.metrics import roc_curve, precision_recall_curve, f1_score, roc_auc_score, average_precision_score\n",
    "from torch import sigmoid\n",
    "from tqdm.notebook import tqdm\n",
    "\n",
    "from rt_bene.blink_estimation_models_pytorch import BlinkEstimationModelResnet18, BlinkEstimationModelResnet50, \\\n",
    "    BlinkEstimationModelVGG19, BlinkEstimationModelDenseNet121, BlinkEstimationModelVGG16\n",
    "from rt_bene_model_training.pytorch.rtbene_dataset import RTBENEH5Dataset"
   ]
  },
  {
   "cell_type": "code",
   "execution_count": 9,
   "metadata": {},
   "outputs": [],
   "source": [
    "hdf5_file = os.path.abspath(os.path.expanduser(\"~/rtbene_dataset.hdf5\"))\n",
    "model_base = \"resnet18\"\n",
    "model_net_dir = os.path.abspath(\"../rt_gene/rt_bene_model_training/pytorch/model_nets/\")\n",
    "\n",
    "assert model_base in [\"resnet18\", \"resnet50\", \"vgg16\", \"vgg19\", \"densenet121\"], \"_model_base requested is not supported\"\n",
    "\n",
    "models = {\n",
    "    \"resnet18\": BlinkEstimationModelResnet18,\n",
    "    \"resnet50\": BlinkEstimationModelResnet50,\n",
    "    \"vgg16\": BlinkEstimationModelVGG16,\n",
    "    \"vgg19\": BlinkEstimationModelVGG19,\n",
    "    \"densenet121\": BlinkEstimationModelDenseNet121\n",
    "}"
   ]
  },
  {
   "cell_type": "code",
   "execution_count": 10,
   "metadata": {},
   "outputs": [
    {
     "data": {
      "text/plain": "Models..:   0%|          | 0/3 [00:00<?, ?it/s]",
      "application/vnd.jupyter.widget-view+json": {
       "version_major": 2,
       "version_minor": 0,
       "model_id": "41e51a7d199d4d999fbb303084974162"
      }
     },
     "metadata": {},
     "output_type": "display_data"
    },
    {
     "data": {
      "text/plain": "Subjects...:   0%|          | 0/4 [00:00<?, ?it/s]",
      "application/vnd.jupyter.widget-view+json": {
       "version_major": 2,
       "version_minor": 0,
       "model_id": "3ef162640f994e5191e555d24ee09094"
      }
     },
     "metadata": {},
     "output_type": "display_data"
    },
    {
     "name": "stderr",
     "output_type": "stream",
     "text": [
      "Loading (0) subject metadata...: 100%|██████████| 1/1 [00:07<00:00,  7.43s/it]\n",
      "Loading (11) subject metadata...: 100%|██████████| 1/1 [00:03<00:00,  3.98s/it]\n",
      "Loading (15) subject metadata...: 100%|██████████| 1/1 [00:00<00:00,  1.73it/s]\n",
      "Loading (16) subject metadata...: 100%|██████████| 1/1 [00:01<00:00,  1.34s/it]\n",
      "Loading (0) subject metadata...: 100%|██████████| 1/1 [00:03<00:00,  3.95s/it]\n",
      "Loading (11) subject metadata...: 100%|██████████| 1/1 [00:05<00:00,  5.79s/it]\n",
      "Loading (15) subject metadata...: 100%|██████████| 1/1 [00:00<00:00,  1.63it/s]\n",
      "Loading (16) subject metadata...: 100%|██████████| 1/1 [00:01<00:00,  1.49s/it]\n",
      "Loading (0) subject metadata...: 100%|██████████| 1/1 [00:04<00:00,  4.31s/it]\n",
      "Loading (11) subject metadata...: 100%|██████████| 1/1 [00:04<00:00,  4.33s/it]\n",
      "Loading (15) subject metadata...: 100%|██████████| 1/1 [00:00<00:00,  1.58it/s]\n",
      "Loading (16) subject metadata...: 100%|██████████| 1/1 [00:01<00:00,  1.48s/it]\n"
     ]
    },
    {
     "data": {
      "text/plain": "Images...:   0%|          | 0/12865 [00:00<?, ?it/s]",
      "application/vnd.jupyter.widget-view+json": {
       "version_major": 2,
       "version_minor": 0,
       "model_id": "32967988481b4320a53c05953def69fb"
      }
     },
     "metadata": {},
     "output_type": "display_data"
    },
    {
     "data": {
      "text/plain": "Images...:   0%|          | 0/12817 [00:00<?, ?it/s]",
      "application/vnd.jupyter.widget-view+json": {
       "version_major": 2,
       "version_minor": 0,
       "model_id": "4169c436ba3542158c43467645479939"
      }
     },
     "metadata": {},
     "output_type": "display_data"
    },
    {
     "data": {
      "text/plain": "Images...:   0%|          | 0/1810 [00:00<?, ?it/s]",
      "application/vnd.jupyter.widget-view+json": {
       "version_major": 2,
       "version_minor": 0,
       "model_id": "089bc4405387479c894c2a990831dd20"
      }
     },
     "metadata": {},
     "output_type": "display_data"
    },
    {
     "data": {
      "text/plain": "Images...:   0%|          | 0/4549 [00:00<?, ?it/s]",
      "application/vnd.jupyter.widget-view+json": {
       "version_major": 2,
       "version_minor": 0,
       "model_id": "095bd0c7deec456e9ac45d85f71c6c7e"
      }
     },
     "metadata": {},
     "output_type": "display_data"
    },
    {
     "data": {
      "text/plain": "Subjects...:   0%|          | 0/4 [00:00<?, ?it/s]",
      "application/vnd.jupyter.widget-view+json": {
       "version_major": 2,
       "version_minor": 0,
       "model_id": "a20c4b39cb6341879847446af9c9697f"
      }
     },
     "metadata": {},
     "output_type": "display_data"
    },
    {
     "data": {
      "text/plain": "Images...:   0%|          | 0/12865 [00:00<?, ?it/s]",
      "application/vnd.jupyter.widget-view+json": {
       "version_major": 2,
       "version_minor": 0,
       "model_id": "f183067a86bd475f8d505bbec1312fe3"
      }
     },
     "metadata": {},
     "output_type": "display_data"
    },
    {
     "data": {
      "text/plain": "Images...:   0%|          | 0/12817 [00:00<?, ?it/s]",
      "application/vnd.jupyter.widget-view+json": {
       "version_major": 2,
       "version_minor": 0,
       "model_id": "33fbfd3d726a44a4bc189f9d3a537ad3"
      }
     },
     "metadata": {},
     "output_type": "display_data"
    },
    {
     "data": {
      "text/plain": "Images...:   0%|          | 0/1810 [00:00<?, ?it/s]",
      "application/vnd.jupyter.widget-view+json": {
       "version_major": 2,
       "version_minor": 0,
       "model_id": "b1d093bc9bde49eab5ef09bef671075e"
      }
     },
     "metadata": {},
     "output_type": "display_data"
    },
    {
     "data": {
      "text/plain": "Images...:   0%|          | 0/4549 [00:00<?, ?it/s]",
      "application/vnd.jupyter.widget-view+json": {
       "version_major": 2,
       "version_minor": 0,
       "model_id": "205bccce42044645883777cefa39b741"
      }
     },
     "metadata": {},
     "output_type": "display_data"
    },
    {
     "data": {
      "text/plain": "Subjects...:   0%|          | 0/4 [00:00<?, ?it/s]",
      "application/vnd.jupyter.widget-view+json": {
       "version_major": 2,
       "version_minor": 0,
       "model_id": "c76cbe2a3d26472dbf7efdc620443cdd"
      }
     },
     "metadata": {},
     "output_type": "display_data"
    },
    {
     "data": {
      "text/plain": "Images...:   0%|          | 0/12865 [00:00<?, ?it/s]",
      "application/vnd.jupyter.widget-view+json": {
       "version_major": 2,
       "version_minor": 0,
       "model_id": "d0bd71eced6949979e57dfc0ab1fb77a"
      }
     },
     "metadata": {},
     "output_type": "display_data"
    },
    {
     "data": {
      "text/plain": "Images...:   0%|          | 0/12817 [00:00<?, ?it/s]",
      "application/vnd.jupyter.widget-view+json": {
       "version_major": 2,
       "version_minor": 0,
       "model_id": "9c0b08bef63a4f07bd8688bcc9fd85f8"
      }
     },
     "metadata": {},
     "output_type": "display_data"
    },
    {
     "data": {
      "text/plain": "Images...:   0%|          | 0/1810 [00:00<?, ?it/s]",
      "application/vnd.jupyter.widget-view+json": {
       "version_major": 2,
       "version_minor": 0,
       "model_id": "1c3ad962f333484a9be3882577bbf958"
      }
     },
     "metadata": {},
     "output_type": "display_data"
    },
    {
     "data": {
      "text/plain": "Images...:   0%|          | 0/4549 [00:00<?, ?it/s]",
      "application/vnd.jupyter.widget-view+json": {
       "version_major": 2,
       "version_minor": 0,
       "model_id": "2cba3accc5b8475ab41892ba8ac27878"
      }
     },
     "metadata": {},
     "output_type": "display_data"
    }
   ],
   "source": [
    "valid_subjects = [0, 11, 15, 16]\n",
    "# create a master list of predictions and labels\n",
    "model_inferences = {}\n",
    "for model_file in tqdm(glob.glob(os.path.join(model_net_dir, \"*.model\")), desc=\"Models..\", position=1):\n",
    "    labels = []\n",
    "    predictions = []\n",
    "    model_nn = models.get(model_base)()\n",
    "    model_nn.load_state_dict(torch.load(model_file))\n",
    "    model_nn.cuda()\n",
    "    model_nn.eval()\n",
    "    for subject in tqdm(valid_subjects, desc=\"Subjects...\", position=2):\n",
    "        data_validate = RTBENEH5Dataset(h5_file=h5py.File(hdf5_file, mode=\"r\"), subject_list=[subject], loader_desc=subject)\n",
    "        for index in tqdm(range(0, len(data_validate)), desc=\"Images...\", position=3):\n",
    "            _left, _right, _label = data_validate[index]\n",
    "            _predicted_blink = sigmoid(model_nn(_left.unsqueeze(0).float().cuda(), _right.unsqueeze(0).float().cuda()))\n",
    "            labels.extend(_label)\n",
    "            predictions.append(float(_predicted_blink.detach().cpu()))\n",
    "\n",
    "    model_inferences[model_file] = {\"labels\": labels, \"predictions\": predictions}"
   ]
  },
  {
   "cell_type": "code",
   "execution_count": 29,
   "metadata": {},
   "outputs": [
    {
     "name": "stdout",
     "output_type": "stream",
     "text": [
      "Optimal Threshold from ROC 0.27, optimal threshold from PRC 0.98\n",
      "Optimal Threshold from ROC 0.81, optimal threshold from PRC 1.00\n",
      "Optimal Threshold from ROC 0.23, optimal threshold from PRC 1.00\n"
     ]
    },
    {
     "data": {
      "text/plain": "<Figure size 1080x432 with 2 Axes>",
      "image/png": "[encoded data removed]"
     },
     "metadata": {
      "needs_background": "light"
     },
     "output_type": "display_data"
    }
   ],
   "source": [
    "fig, (roc_fig, prc_fig) = plt.subplots(nrows=1, ncols=2, figsize=(15, 6))\n",
    "aurocs = []\n",
    "auprcs = []\n",
    "for model_name, inferences in model_inferences.items():\n",
    "    labels = inferences['labels']\n",
    "    predictions = inferences['predictions']\n",
    "    fpr, tpr, ft_thresholds = roc_curve(y_true=labels, y_score=predictions)\n",
    "    positive_predictive_value, sensitivity, pr_thresholds = precision_recall_curve(labels, predictions)\n",
    "    optimal_roc_idx = np.argmax(tpr - fpr)\n",
    "    optimal_roc_threshold = ft_thresholds[optimal_roc_idx]\n",
    "    optimal_prc_idx = np.argmax(sensitivity + positive_predictive_value)\n",
    "    optimal_prc_threshold = pr_thresholds[optimal_prc_idx]\n",
    "    auroc = roc_auc_score(y_true=labels, y_score=predictions)\n",
    "    auprc = average_precision_score(y_true=labels, y_score=predictions)\n",
    "    aurocs.append(auroc)\n",
    "    auprcs.append(auprc)\n",
    "\n",
    "    prc_fig.step(sensitivity, positive_predictive_value, where='post')\n",
    "    roc_fig.plot(fpr, tpr, lw=2)\n",
    "    print(\"Optimal Threshold from ROC {:.2f}, optimal threshold from PRC {:.2f}\".format(optimal_roc_threshold, optimal_prc_threshold))\n",
    "\n",
    "\n",
    "roc_fig.plot([0, 1], [0, 1], color='navy', lw=2, linestyle='--')\n",
    "roc_fig.set_xlim([0.0, 1.05])\n",
    "roc_fig.set_ylim([0.0, 1.05])\n",
    "roc_fig.set_xlabel('1 - Sensitivity')\n",
    "roc_fig.set_ylabel('Specificity')\n",
    "roc_fig.set_title('Receiver operating characteristics curve. AUC {:.2f}'.format(np.array(aurocs).mean()))\n",
    "\n",
    "prc_fig.set_xlabel('Sensitivity (Recall)')\n",
    "prc_fig.set_ylabel('Positive Predictive Value (Precision)')\n",
    "prc_fig.set_ylim([0.0, 1.05])\n",
    "prc_fig.set_xlim([0.0, 1.05])\n",
    "\n",
    "prc_fig.set_title(\"Precision recall curve. AUC {:.2f}\".format(np.array(auprcs).mean()))\n",
    "plt.savefig(os.path.abspath(os.path.expanduser(\"~/catkin_ws/src/rt_gene/assets/rtbene_pytorch_resnet18.png\")))\n",
    "plt.show()"
   ]
  },
  {
   "cell_type": "code",
   "execution_count": 26,
   "outputs": [
    {
     "data": {
      "text/plain": "Calculating F-Scores:   0%|          | 0/1000 [00:00<?, ?it/s]",
      "application/vnd.jupyter.widget-view+json": {
       "version_major": 2,
       "version_minor": 0,
       "model_id": "7f471e22c8f349e29de4b21ea4053e6e"
      }
     },
     "metadata": {},
     "output_type": "display_data"
    },
    {
     "name": "stdout",
     "output_type": "stream",
     "text": [
      "Optimal Threshold from F1-Score Thresholding 0.94\n",
      "Optimal Threshold from F1-Score Thresholding 1.00\n",
      "Optimal Threshold from F1-Score Thresholding 1.00\n"
     ]
    },
    {
     "data": {
      "text/plain": "Calculating F-Scores:   0%|          | 0/1000 [00:00<?, ?it/s]",
      "application/vnd.jupyter.widget-view+json": {
       "version_major": 2,
       "version_minor": 0,
       "model_id": "20b01a959fdc4fd4914b8dc6d17cdd2c"
      }
     },
     "metadata": {},
     "output_type": "display_data"
    },
    {
     "data": {
      "text/plain": "Calculating F-Scores:   0%|          | 0/1000 [00:00<?, ?it/s]",
      "application/vnd.jupyter.widget-view+json": {
       "version_major": 2,
       "version_minor": 0,
       "model_id": "05233beec3c14e61bc7c60d22d3f1e3e"
      }
     },
     "metadata": {},
     "output_type": "display_data"
    },
    {
     "data": {
      "text/plain": "Text(0.5, 1.0, 'Optimal Threshold: 0.98')"
     },
     "execution_count": 26,
     "metadata": {},
     "output_type": "execute_result"
    },
    {
     "data": {
      "text/plain": "<Figure size 432x288 with 1 Axes>",
      "image/png": "[encoded data removed]"
     },
     "metadata": {
      "needs_background": "light"
     },
     "output_type": "display_data"
    }
   ],
   "source": [
    "fig = plt.figure()\n",
    "f1_thresholds = []\n",
    "for model_name, inferences in model_inferences.items():\n",
    "    labels = inferences['labels']\n",
    "    predictions = inferences['predictions']\n",
    "    thresholds = np.arange(0.0, 1.0, 0.001)\n",
    "    f1scores = np.zeros(shape=(len(thresholds)))\n",
    "    # Sweep across the thresholds and calculate the f1-score for those predictions.\n",
    "    # The idea here is that the threshold with the highest f1-score is ideal\n",
    "    for index, elem in tqdm(enumerate(thresholds), total=len(thresholds), desc=\"Calculating F-Scores\"):\n",
    "        # Corrected probabilities\n",
    "        y_pred_prob = (np.array(predictions) > elem).astype('int')\n",
    "        # Calculate the f-score\n",
    "        f1scores[index] = f1_score(np.array(labels), y_pred_prob)\n",
    "\n",
    "    # Find the optimal threshold\n",
    "    f1score_argmax_index = np.argmax(f1scores)\n",
    "    optimal_f1score_threshold = thresholds[f1score_argmax_index]\n",
    "    f1score_at_optimal_threshold = f1scores[f1score_argmax_index]\n",
    "    plt.plot(thresholds, f1scores)\n",
    "    plt.plot(optimal_f1score_threshold, f1score_at_optimal_threshold, color=\"g\", marker=\"o\", markersize=5)\n",
    "    print(f'Optimal Threshold from F1-Score Thresholding {optimal_f1score_threshold:.2f}')\n",
    "    f1_thresholds.append(optimal_f1score_threshold)\n",
    "plt.title(f\"Optimal Threshold: {np.array(f1_thresholds).mean():.2f}\")\n"
   ],
   "metadata": {
    "collapsed": false,
    "pycharm": {
     "name": "#%%\n"
    }
   }
  }
 ]
}