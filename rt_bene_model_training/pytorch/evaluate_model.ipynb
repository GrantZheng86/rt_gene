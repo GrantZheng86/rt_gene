{
 "metadata": {
  "language_info": {
   "codemirror_mode": {
    "name": "ipython",
    "version": 3
   },
   "file_extension": ".py",
   "mimetype": "text/x-python",
   "name": "python",
   "nbconvert_exporter": "python",
   "pygments_lexer": "ipython3",
   "version": "3.8.6-final"
  },
  "orig_nbformat": 2,
  "kernelspec": {
   "name": "python3",
   "language": "python",
   "display_name": "Python 3"
  }
 },
 "nbformat": 4,
 "nbformat_minor": 2,
 "cells": [
  {
   "cell_type": "code",
   "execution_count": 2,
   "metadata": {},
   "outputs": [],
   "source": [
    "import os\n",
    "import glob\n",
    "import h5py\n",
    "import matplotlib.pyplot as plt\n",
    "import numpy as np\n",
    "import torch\n",
    "from sklearn.metrics import roc_curve, precision_recall_curve, f1_score, roc_auc_score, average_precision_score\n",
    "from torch import sigmoid\n",
    "from tqdm.notebook import tqdm\n",
    "\n",
    "from rt_bene.blink_estimation_models_pytorch import BlinkEstimationModelResnet18, BlinkEstimationModelResnet50, \\\n",
    "    BlinkEstimationModelVGG19, BlinkEstimationModelDenseNet121, BlinkEstimationModelVGG16\n",
    "from rt_bene_model_training.pytorch.rtbene_dataset import RTBENEH5Dataset"
   ]
  },
  {
   "cell_type": "code",
   "execution_count": 5,
   "metadata": {},
   "outputs": [],
   "source": [
    "hdf5_file = os.path.abspath(os.path.expanduser(\"~/rtbene_dataset.hdf5\"))\n",
    "model_base = \"resnet18\"\n",
    "model_net_dir = os.path.abspath(\"../rt_gene/../rt_gene/rt_bene_model_training/pytorch/model_nets/\")\n",
    "\n",
    "assert model_base in [\"resnet18\", \"resnet50\", \"vgg16\", \"vgg19\", \"densenet121\"], \"_model_base requested is not supported\"\n",
    "\n",
    "models = {\n",
    "    \"resnet18\": BlinkEstimationModelResnet18,\n",
    "    \"resnet50\": BlinkEstimationModelResnet50,\n",
    "    \"vgg16\": BlinkEstimationModelVGG16,\n",
    "    \"vgg19\": BlinkEstimationModelVGG19,\n",
    "    \"densenet121\": BlinkEstimationModelDenseNet121\n",
    "}"
   ]
  },
  {
   "cell_type": "code",
   "execution_count": 6,
   "metadata": {},
   "outputs": [
    {
     "data": {
      "text/plain": "Models..:   0%|          | 0/1 [00:00<?, ?it/s]",
      "application/vnd.jupyter.widget-view+json": {
       "version_major": 2,
       "version_minor": 0,
       "model_id": "4182f8b203a94530b53f8f7e2f4f77cd"
      }
     },
     "metadata": {},
     "output_type": "display_data"
    },
    {
     "data": {
      "text/plain": "Subjects...:   0%|          | 0/4 [00:00<?, ?it/s]",
      "application/vnd.jupyter.widget-view+json": {
       "version_major": 2,
       "version_minor": 0,
       "model_id": "7bc1747424124bda891ee7c30b8e9a1b"
      }
     },
     "metadata": {},
     "output_type": "display_data"
    },
    {
     "name": "stderr",
     "output_type": "stream",
     "text": [
      "Loading (0) subject metadata...: 100%|██████████| 1/1 [00:03<00:00,  3.51s/it]\n",
      "Loading (11) subject metadata...: 100%|██████████| 1/1 [00:03<00:00,  3.69s/it]\n",
      "Loading (15) subject metadata...: 100%|██████████| 1/1 [00:00<00:00,  1.77it/s]\n",
      "Loading (16) subject metadata...: 100%|██████████| 1/1 [00:01<00:00,  1.42s/it]\n"
     ]
    },
    {
     "data": {
      "text/plain": "Images...:   0%|          | 0/12865 [00:00<?, ?it/s]",
      "application/vnd.jupyter.widget-view+json": {
       "version_major": 2,
       "version_minor": 0,
       "model_id": "d6d16594bf304adfaca07091209ac648"
      }
     },
     "metadata": {},
     "output_type": "display_data"
    },
    {
     "data": {
      "text/plain": "Images...:   0%|          | 0/12817 [00:00<?, ?it/s]",
      "application/vnd.jupyter.widget-view+json": {
       "version_major": 2,
       "version_minor": 0,
       "model_id": "60de0ac94c3c4467977e0cf6f22c0964"
      }
     },
     "metadata": {},
     "output_type": "display_data"
    },
    {
     "data": {
      "text/plain": "Images...:   0%|          | 0/1810 [00:00<?, ?it/s]",
      "application/vnd.jupyter.widget-view+json": {
       "version_major": 2,
       "version_minor": 0,
       "model_id": "6e4ac584a82747768567ad4eba4d73c1"
      }
     },
     "metadata": {},
     "output_type": "display_data"
    },
    {
     "data": {
      "text/plain": "Images...:   0%|          | 0/4549 [00:00<?, ?it/s]",
      "application/vnd.jupyter.widget-view+json": {
       "version_major": 2,
       "version_minor": 0,
       "model_id": "0e822a1030764c4eaf9b504d809ddb44"
      }
     },
     "metadata": {},
     "output_type": "display_data"
    }
   ],
   "source": [
    "valid_subjects = [0, 11, 15, 16]\n",
    "# create a master list of predictions and labels\n",
    "model_inferences = {}\n",
    "for model_file in tqdm(glob.glob(os.path.join(model_net_dir, \"*.model\")), desc=\"Models..\", position=1):\n",
    "    labels = []\n",
    "    predictions = []\n",
    "    model_nn = models.get(model_base)()\n",
    "    model_nn.load_state_dict(torch.load(model_file))\n",
    "    model_nn.cuda()\n",
    "    model_nn.eval()\n",
    "    for subject in tqdm(valid_subjects, desc=\"Subjects...\", position=2):\n",
    "        data_validate = RTBENEH5Dataset(h5_file=h5py.File(hdf5_file, mode=\"r\"), subject_list=[subject], loader_desc=subject)\n",
    "        for index in tqdm(range(0, len(data_validate)), desc=\"Images...\", position=3):\n",
    "            _left, _right, _label = data_validate[index]\n",
    "            _predicted_blink = sigmoid(model_nn(_left.unsqueeze(0).float().cuda(), _right.unsqueeze(0).float().cuda()))\n",
    "            labels.extend(_label)\n",
    "            predictions.append(float(_predicted_blink.detach().cpu()))\n",
    "\n",
    "    model_inferences[model_file] = {\"labels\": labels, \"predictions\": predictions}"
   ]
  },
  {
   "cell_type": "code",
   "execution_count": 7,
   "metadata": {},
   "outputs": [
    {
     "data": {
      "text/plain": "Calculating F-Scores:   0%|          | 0/1000 [00:00<?, ?it/s]",
      "application/vnd.jupyter.widget-view+json": {
       "version_major": 2,
       "version_minor": 0,
       "model_id": "382e7d1edb4240959742a9c4696c4aea"
      }
     },
     "metadata": {},
     "output_type": "display_data"
    },
    {
     "name": "stdout",
     "output_type": "stream",
     "text": [
      "Optimal Threshold from ROC 0.68, optimal threshold from PRC 0.99, optimal threshold from f1-score 0.99\n"
     ]
    },
    {
     "data": {
      "text/plain": "<Figure size 432x288 with 3 Axes>",
      "image/png": "[encoded data removed]"
     },
     "metadata": {
      "needs_background": "light"
     },
     "output_type": "display_data"
    }
   ],
   "source": [
    "fig, (roc_fig, prc_fig, f1_fig) = plt.subplots(3, 1)\n",
    "for model_name, inferences in model_inferences.items():\n",
    "    labels = inferences['labels']\n",
    "    predictions = inferences['predictions']\n",
    "    fpr, tpr, ft_thresholds = roc_curve(y_true=labels, y_score=predictions)\n",
    "    positive_predictive_value, sensitivity, pr_thresholds = precision_recall_curve(labels, predictions)\n",
    "    optimal_roc_idx = np.argmax(tpr - fpr)\n",
    "    optimal_roc_threshold = ft_thresholds[optimal_roc_idx]\n",
    "    optimal_prc_idx = np.argmax(sensitivity + positive_predictive_value)\n",
    "    optimal_prc_threshold = pr_thresholds[optimal_prc_idx]\n",
    "    auroc = roc_auc_score(y_true=labels, y_score=predictions)\n",
    "    auprc = average_precision_score(y_true=labels, y_score=predictions)\n",
    "\n",
    "    prc_fig.step(sensitivity, positive_predictive_value, where='post')\n",
    "    prc_fig.set_xlabel('Sensitivity (Recall)')\n",
    "    prc_fig.set_ylabel('Positive Predictive Value (Precision)')\n",
    "    prc_fig.set_ylim([0.0, 1.05])\n",
    "    prc_fig.set_xlim([0.0, 1.05])\n",
    "    prc_fig.set_title(\"Precision recall curve. AUC {:.2f}\".format(auprc))\n",
    "\n",
    "    roc_fig.plot(fpr, tpr, lw=2)\n",
    "    roc_fig.plot([0, 1], [0, 1], color='navy', lw=2, linestyle='--')\n",
    "    roc_fig.set_xlim([0.0, 1.05])\n",
    "    roc_fig.set_ylim([0.0, 1.05])\n",
    "    roc_fig.set_xlabel('1 - Sensitivity')\n",
    "    roc_fig.set_ylabel('Specificity')\n",
    "    roc_fig.set_title('Receiver operating characteristics curve. AUC {:.2f}'.format(auroc))\n",
    "\n",
    "    f1_thresholds = np.arange(0.0, 1.0, 0.001)\n",
    "    f1scores = np.zeros(shape=(len(f1_thresholds)))\n",
    "\n",
    "    # Sweep across the thresholds and calculate the f1-score for those predictions.\n",
    "    # The idea here is that the threshold with the highest f1-score is ideal\n",
    "    for index, elem in tqdm(enumerate(f1_thresholds), total=len(f1_thresholds), desc=\"Calculating F-Scores\"):\n",
    "        # Corrected probabilities\n",
    "        y_pred_prob = (np.array(predictions) > elem).astype('int')\n",
    "        # Calculate the f-score\n",
    "        f1scores[index] = f1_score(np.array(labels), y_pred_prob)\n",
    "\n",
    "    # Find the optimal threshold\n",
    "    f1score_argmax_index = np.argmax(f1scores)\n",
    "    optimal_f1score_threshold = f1_thresholds[f1score_argmax_index]\n",
    "    f1score_at_optimal_threshold = f1scores[f1score_argmax_index]\n",
    "    f1_fig.plot(f1_thresholds, f1scores)\n",
    "    f1_fig.plot(optimal_f1score_threshold, f1score_at_optimal_threshold, color=\"g\", marker=\"o\", markersize=5)\n",
    "\n",
    "    print(\"Optimal Threshold from ROC {:.2f}, optimal threshold from PRC {:.2f}, optimal threshold from f1-score {:.2f}\".format(optimal_roc_threshold, optimal_prc_threshold, optimal_f1score_threshold))\n",
    "\n",
    "plt.show()"
   ]
  },
  {
   "cell_type": "code",
   "execution_count": null,
   "metadata": {},
   "outputs": [],
   "source": []
  }
 ]
}