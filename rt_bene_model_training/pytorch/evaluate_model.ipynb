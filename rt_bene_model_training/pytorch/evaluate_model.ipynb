{
 "metadata": {
  "language_info": {
   "codemirror_mode": {
    "name": "ipython",
    "version": 3
   },
   "file_extension": ".py",
   "mimetype": "text/x-python",
   "name": "python",
   "nbconvert_exporter": "python",
   "pygments_lexer": "ipython3",
   "version": "3.8.6-final"
  },
  "orig_nbformat": 2,
  "kernelspec": {
   "name": "python3",
   "language": "python",
   "display_name": "Python 3"
  }
 },
 "nbformat": 4,
 "nbformat_minor": 2,
 "cells": [
  {
   "cell_type": "code",
   "execution_count": 28,
   "metadata": {},
   "outputs": [],
   "source": [
    "import os\n",
    "import glob\n",
    "import h5py\n",
    "import matplotlib.pyplot as plt\n",
    "import numpy as np\n",
    "import torch\n",
    "from sklearn.metrics import roc_curve, precision_recall_curve, f1_score, roc_auc_score, average_precision_score\n",
    "from torch import sigmoid\n",
    "from tqdm.notebook import tqdm\n",
    "\n",
    "from rt_bene.blink_estimation_models_pytorch import BlinkEstimationModelResnet18, BlinkEstimationModelResnet50, \\\n",
    "    BlinkEstimationModelVGG19, BlinkEstimationModelDenseNet121, BlinkEstimationModelVGG16\n",
    "from rt_bene_model_training.pytorch.rtbene_dataset import RTBENEH5Dataset"
   ]
  },
  {
   "cell_type": "code",
   "execution_count": 17,
   "metadata": {},
   "outputs": [],
   "source": [
    "hdf5_file = os.path.abspath(os.path.expanduser(\"~/rtbene_dataset.hdf5\"))\n",
    "model_base = \"resnet50\"\n",
    "model_net_dir = os.path.abspath(\"../rt_gene/../rt_gene/rt_bene_model_training/pytorch/model_nets/\")\n",
    "\n",
    "assert model_base in [\"resnet18\", \"resnet50\", \"vgg16\", \"vgg19\", \"densenet121\"], \"_model_base requested is not supported\"\n",
    "\n",
    "models = {\n",
    "    \"resnet18\": BlinkEstimationModelResnet18,\n",
    "    \"resnet50\": BlinkEstimationModelResnet50,\n",
    "    \"vgg16\": BlinkEstimationModelVGG16,\n",
    "    \"vgg19\": BlinkEstimationModelVGG19,\n",
    "    \"densenet121\": BlinkEstimationModelDenseNet121\n",
    "}"
   ]
  },
  {
   "cell_type": "code",
   "execution_count": 18,
   "metadata": {},
   "outputs": [
    {
     "data": {
      "text/plain": "Models..:   0%|          | 0/3 [00:00<?, ?it/s]",
      "application/vnd.jupyter.widget-view+json": {
       "version_major": 2,
       "version_minor": 0,
       "model_id": "3a7db512a895484691194e590a314c5a"
      }
     },
     "metadata": {},
     "output_type": "display_data"
    },
    {
     "data": {
      "text/plain": "Subjects...:   0%|          | 0/4 [00:00<?, ?it/s]",
      "application/vnd.jupyter.widget-view+json": {
       "version_major": 2,
       "version_minor": 0,
       "model_id": "604069184efe434a91246b5cb22d2416"
      }
     },
     "metadata": {},
     "output_type": "display_data"
    },
    {
     "name": "stderr",
     "output_type": "stream",
     "text": [
      "Loading (0) subject metadata...: 100%|██████████| 1/1 [00:03<00:00,  3.32s/it]\n",
      "Loading (11) subject metadata...: 100%|██████████| 1/1 [00:05<00:00,  5.29s/it]\n",
      "Loading (15) subject metadata...: 100%|██████████| 1/1 [00:01<00:00,  1.12s/it]\n",
      "Loading (16) subject metadata...: 100%|██████████| 1/1 [00:02<00:00,  2.90s/it]\n",
      "Loading (0) subject metadata...: 100%|██████████| 1/1 [00:04<00:00,  4.03s/it]\n",
      "Loading (11) subject metadata...: 100%|██████████| 1/1 [00:04<00:00,  4.10s/it]\n",
      "Loading (15) subject metadata...: 100%|██████████| 1/1 [00:00<00:00,  1.66it/s]\n",
      "Loading (16) subject metadata...: 100%|██████████| 1/1 [00:01<00:00,  1.55s/it]\n",
      "Loading (0) subject metadata...: 100%|██████████| 1/1 [00:04<00:00,  4.39s/it]\n",
      "Loading (11) subject metadata...: 100%|██████████| 1/1 [00:04<00:00,  4.40s/it]\n",
      "Loading (15) subject metadata...: 100%|██████████| 1/1 [00:00<00:00,  1.71it/s]\n",
      "Loading (16) subject metadata...: 100%|██████████| 1/1 [00:01<00:00,  1.41s/it]\n"
     ]
    },
    {
     "data": {
      "text/plain": "Images...:   0%|          | 0/12865 [00:00<?, ?it/s]",
      "application/vnd.jupyter.widget-view+json": {
       "version_major": 2,
       "version_minor": 0,
       "model_id": "d5005f8c05644118b65748ac03f4f026"
      }
     },
     "metadata": {},
     "output_type": "display_data"
    },
    {
     "data": {
      "text/plain": "Images...:   0%|          | 0/12817 [00:00<?, ?it/s]",
      "application/vnd.jupyter.widget-view+json": {
       "version_major": 2,
       "version_minor": 0,
       "model_id": "93e3059d63d5430c89d23d0d4912b7b3"
      }
     },
     "metadata": {},
     "output_type": "display_data"
    },
    {
     "data": {
      "text/plain": "Images...:   0%|          | 0/1810 [00:00<?, ?it/s]",
      "application/vnd.jupyter.widget-view+json": {
       "version_major": 2,
       "version_minor": 0,
       "model_id": "8ef980a4897a48718da1de1286db9977"
      }
     },
     "metadata": {},
     "output_type": "display_data"
    },
    {
     "data": {
      "text/plain": "Images...:   0%|          | 0/4549 [00:00<?, ?it/s]",
      "application/vnd.jupyter.widget-view+json": {
       "version_major": 2,
       "version_minor": 0,
       "model_id": "8612b5a87f194636a858d88f62fcaedc"
      }
     },
     "metadata": {},
     "output_type": "display_data"
    },
    {
     "data": {
      "text/plain": "Subjects...:   0%|          | 0/4 [00:00<?, ?it/s]",
      "application/vnd.jupyter.widget-view+json": {
       "version_major": 2,
       "version_minor": 0,
       "model_id": "8a340e8237be41cbac6ee311db9e61fe"
      }
     },
     "metadata": {},
     "output_type": "display_data"
    },
    {
     "data": {
      "text/plain": "Images...:   0%|          | 0/12865 [00:00<?, ?it/s]",
      "application/vnd.jupyter.widget-view+json": {
       "version_major": 2,
       "version_minor": 0,
       "model_id": "5f4e451d39cf418db117fb363fe2e2b5"
      }
     },
     "metadata": {},
     "output_type": "display_data"
    },
    {
     "data": {
      "text/plain": "Images...:   0%|          | 0/12817 [00:00<?, ?it/s]",
      "application/vnd.jupyter.widget-view+json": {
       "version_major": 2,
       "version_minor": 0,
       "model_id": "d310619a71e54c27b3026fffe0e6ef1c"
      }
     },
     "metadata": {},
     "output_type": "display_data"
    },
    {
     "data": {
      "text/plain": "Images...:   0%|          | 0/1810 [00:00<?, ?it/s]",
      "application/vnd.jupyter.widget-view+json": {
       "version_major": 2,
       "version_minor": 0,
       "model_id": "dedaa36071274cac8ed56641c4274456"
      }
     },
     "metadata": {},
     "output_type": "display_data"
    },
    {
     "data": {
      "text/plain": "Images...:   0%|          | 0/4549 [00:00<?, ?it/s]",
      "application/vnd.jupyter.widget-view+json": {
       "version_major": 2,
       "version_minor": 0,
       "model_id": "74787f85b5a540a2b4d1064f0bc4d378"
      }
     },
     "metadata": {},
     "output_type": "display_data"
    },
    {
     "data": {
      "text/plain": "Subjects...:   0%|          | 0/4 [00:00<?, ?it/s]",
      "application/vnd.jupyter.widget-view+json": {
       "version_major": 2,
       "version_minor": 0,
       "model_id": "e6d30e0f58f04d53817a58e43e596269"
      }
     },
     "metadata": {},
     "output_type": "display_data"
    },
    {
     "data": {
      "text/plain": "Images...:   0%|          | 0/12865 [00:00<?, ?it/s]",
      "application/vnd.jupyter.widget-view+json": {
       "version_major": 2,
       "version_minor": 0,
       "model_id": "84bbee9dcc3049d4b2b0d69c627f0203"
      }
     },
     "metadata": {},
     "output_type": "display_data"
    },
    {
     "data": {
      "text/plain": "Images...:   0%|          | 0/12817 [00:00<?, ?it/s]",
      "application/vnd.jupyter.widget-view+json": {
       "version_major": 2,
       "version_minor": 0,
       "model_id": "155c8d8788a74284b78028f787b3849e"
      }
     },
     "metadata": {},
     "output_type": "display_data"
    },
    {
     "data": {
      "text/plain": "Images...:   0%|          | 0/1810 [00:00<?, ?it/s]",
      "application/vnd.jupyter.widget-view+json": {
       "version_major": 2,
       "version_minor": 0,
       "model_id": "91c2aa7afed44ac1a122d0419ac71909"
      }
     },
     "metadata": {},
     "output_type": "display_data"
    },
    {
     "data": {
      "text/plain": "Images...:   0%|          | 0/4549 [00:00<?, ?it/s]",
      "application/vnd.jupyter.widget-view+json": {
       "version_major": 2,
       "version_minor": 0,
       "model_id": "cd7071456e874450bdd97a25e4eeeccc"
      }
     },
     "metadata": {},
     "output_type": "display_data"
    }
   ],
   "source": [
    "valid_subjects = [0, 11, 15, 16]\n",
    "# create a master list of predictions and labels\n",
    "model_inferences = {}\n",
    "for model_file in tqdm(glob.glob(os.path.join(model_net_dir, \"*.model\")), desc=\"Models..\", position=1):\n",
    "    labels = []\n",
    "    predictions = []\n",
    "    model_nn = models.get(model_base)()\n",
    "    model_nn.load_state_dict(torch.load(model_file))\n",
    "    model_nn.cuda()\n",
    "    model_nn.eval()\n",
    "    for subject in tqdm(valid_subjects, desc=\"Subjects...\", position=2):\n",
    "        data_validate = RTBENEH5Dataset(h5_file=h5py.File(hdf5_file, mode=\"r\"), subject_list=[subject], loader_desc=subject)\n",
    "        for index in tqdm(range(0, len(data_validate)), desc=\"Images...\", position=3):\n",
    "            _left, _right, _label = data_validate[index]\n",
    "            _predicted_blink = sigmoid(model_nn(_left.unsqueeze(0).float().cuda(), _right.unsqueeze(0).float().cuda()))\n",
    "            labels.extend(_label)\n",
    "            predictions.append(float(_predicted_blink.detach().cpu()))\n",
    "\n",
    "    model_inferences[model_file] = {\"labels\": labels, \"predictions\": predictions}"
   ]
  },
  {
   "cell_type": "code",
   "execution_count": 29,
   "metadata": {},
   "outputs": [
    {
     "data": {
      "text/plain": "Calculating F-Scores:   0%|          | 0/1000 [00:00<?, ?it/s]",
      "application/vnd.jupyter.widget-view+json": {
       "version_major": 2,
       "version_minor": 0,
       "model_id": "d206e8b0ee434f449efd6863eee0c72c"
      }
     },
     "metadata": {},
     "output_type": "display_data"
    },
    {
     "name": "stdout",
     "output_type": "stream",
     "text": [
      "Optimal Threshold from ROC 0.73, optimal threshold from PRC 0.91, optimal threshold from f1-score 0.91\n",
      "Optimal Threshold from ROC 0.51, optimal threshold from PRC 0.96, optimal threshold from f1-score 0.96\n",
      "Optimal Threshold from ROC 0.78, optimal threshold from PRC 0.99, optimal threshold from f1-score 0.99\n"
     ]
    },
    {
     "data": {
      "text/plain": "Calculating F-Scores:   0%|          | 0/1000 [00:00<?, ?it/s]",
      "application/vnd.jupyter.widget-view+json": {
       "version_major": 2,
       "version_minor": 0,
       "model_id": "601ba5a6fc0f4a5c837a02c13e258265"
      }
     },
     "metadata": {},
     "output_type": "display_data"
    },
    {
     "data": {
      "text/plain": "Calculating F-Scores:   0%|          | 0/1000 [00:00<?, ?it/s]",
      "application/vnd.jupyter.widget-view+json": {
       "version_major": 2,
       "version_minor": 0,
       "model_id": "ce9cdc148b2442809898c6430c019103"
      }
     },
     "metadata": {},
     "output_type": "display_data"
    },
    {
     "data": {
      "text/plain": "<Figure size 432x288 with 3 Axes>",
      "image/png": "[encoded data removed]"
     },
     "metadata": {
      "needs_background": "light"
     },
     "output_type": "display_data"
    }
   ],
   "source": [
    "fig, (roc_fig, prc_fig, f1_fig) = plt.subplots(3, 1)\n",
    "for model_name, inferences in model_inferences.items():\n",
    "    labels = inferences['labels']\n",
    "    predictions = inferences['predictions']\n",
    "    fpr, tpr, ft_thresholds = roc_curve(y_true=labels, y_score=predictions)\n",
    "    positive_predictive_value, sensitivity, pr_thresholds = precision_recall_curve(labels, predictions)\n",
    "    optimal_roc_idx = np.argmax(tpr - fpr)\n",
    "    optimal_roc_threshold = ft_thresholds[optimal_roc_idx]\n",
    "    optimal_prc_idx = np.argmax(sensitivity + positive_predictive_value)\n",
    "    optimal_prc_threshold = pr_thresholds[optimal_prc_idx]\n",
    "    auroc = roc_auc_score(y_true=labels, y_score=predictions)\n",
    "    auprc = average_precision_score(y_true=labels, y_score=predictions)\n",
    "\n",
    "    prc_fig.step(sensitivity, positive_predictive_value, where='post')\n",
    "    prc_fig.set_xlabel('Sensitivity (Recall)')\n",
    "    prc_fig.set_ylabel('Positive Predictive Value (Precision)')\n",
    "    prc_fig.set_ylim([0.0, 1.05])\n",
    "    prc_fig.set_xlim([0.0, 1.05])\n",
    "    prc_fig.set_title(\"Precision recall curve. AUC {:.2f}\".format(auprc))\n",
    "\n",
    "    roc_fig.plot(fpr, tpr, lw=2)\n",
    "    roc_fig.plot([0, 1], [0, 1], color='navy', lw=2, linestyle='--')\n",
    "    roc_fig.set_xlim([0.0, 1.05])\n",
    "    roc_fig.set_ylim([0.0, 1.05])\n",
    "    roc_fig.set_xlabel('1 - Sensitivity')\n",
    "    roc_fig.set_ylabel('Specificity')\n",
    "    roc_fig.set_title('Receiver operating characteristics curve. AUC {:.2f}'.format(auroc))\n",
    "\n",
    "    f1_thresholds = np.arange(0.0, 1.0, 0.001)\n",
    "    f1scores = np.zeros(shape=(len(f1_thresholds)))\n",
    "\n",
    "    # Sweep across the thresholds and calculate the f1-score for those predictions.\n",
    "    # The idea here is that the threshold with the highest f1-score is ideal\n",
    "    for index, elem in tqdm(enumerate(f1_thresholds), total=len(f1_thresholds), desc=\"Calculating F-Scores\"):\n",
    "        # Corrected probabilities\n",
    "        y_pred_prob = (np.array(predictions) > elem).astype('int')\n",
    "        # Calculate the f-score\n",
    "        f1scores[index] = f1_score(np.array(labels), y_pred_prob)\n",
    "\n",
    "    # Find the optimal threshold\n",
    "    f1score_argmax_index = np.argmax(f1scores)\n",
    "    optimal_f1score_threshold = f1_thresholds[f1score_argmax_index]\n",
    "    f1score_at_optimal_threshold = f1scores[f1score_argmax_index]\n",
    "    f1_fig.plot(f1_thresholds, f1scores)\n",
    "    f1_fig.plot(optimal_f1score_threshold, f1score_at_optimal_threshold, color=\"g\", marker=\"o\", markersize=5)\n",
    "\n",
    "    print(\"Optimal Threshold from ROC {:.2f}, optimal threshold from PRC {:.2f}, optimal threshold from f1-score {:.2f}\".format(optimal_roc_threshold, optimal_prc_threshold, optimal_f1score_threshold))\n",
    "\n",
    "plt.show()"
   ]
  },
  {
   "cell_type": "code",
   "execution_count": null,
   "metadata": {},
   "outputs": [],
   "source": []
  }
 ]
}